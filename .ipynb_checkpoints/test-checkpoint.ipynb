{
 "cells": [
  {
   "cell_type": "code",
   "execution_count": 4,
   "id": "b354d844-0406-4b26-851b-52d94bf93f3b",
   "metadata": {},
   "outputs": [],
   "source": [
    "import pandas as pd\n",
    "import numpy as np\n",
    "pd.set_option(\"display.max_columns\", None)"
   ]
  },
  {
   "cell_type": "code",
   "execution_count": 16,
   "id": "55537226-00a7-4ddb-9392-324624be48a6",
   "metadata": {},
   "outputs": [],
   "source": [
    "listing = pd.read_csv('listings.csv', encoding='utf-8') #read Airbnb listing dataset \n",
    "listing = listing.drop(['listing_url', 'scrape_id', 'last_scraped','description','neighborhood_overview',\n",
    "'picture_url','host_url', 'host_about','host_response_time','host_response_rate','host_acceptance_rate',\n",
    "'host_thumbnail_url', 'host_picture_url','host_verifications','host_has_profile_pic','host_identity_verified',\n",
    "'minimum_minimum_nights','maximum_minimum_nights','minimum_maximum_nights',\n",
    "'maximum_maximum_nights', 'minimum_nights_avg_ntm','maximum_nights_avg_ntm','calendar_updated',\n",
    "'first_review','last_review','license','instant_bookable','calculated_host_listings_count',\n",
    "'calculated_host_listings_count_entire_homes', 'calculated_host_listings_count_private_rooms',\n",
    "'calculated_host_listings_count_shared_rooms', 'number_of_reviews_ltm','number_of_reviews_l30d'], axis=1)\n",
    "\n",
    "# Deleting irrelevant fields of this project"
   ]
  },
  {
   "cell_type": "code",
   "execution_count": 19,
   "id": "9b0bc41f-71f3-4a4b-8790-7287851eff74",
   "metadata": {},
   "outputs": [
    {
     "data": {
      "application/vnd.jupyter.widget-view+json": {
       "model_id": "154a66d8650749b1a416d56459226d5c",
       "version_major": 2,
       "version_minor": 0
      },
      "text/plain": [
       "MitoWidget(analysis_data_json='{\"analysisName\": \"UUID-ee6e5435-7eea-4c5e-9207-d5ff29171786\", \"code\": {\"imports…"
      ]
     },
     "metadata": {},
     "output_type": "display_data"
    }
   ],
   "source": [
    "# Show listing dataset intereactively\n",
    "import mitosheet\n",
    "mitosheet.sheet(listing, view_df=True)"
   ]
  },
  {
   "cell_type": "code",
   "execution_count": 20,
   "id": "3da84602-8450-431d-bd27-2436ac5ce5a5",
   "metadata": {},
   "outputs": [
    {
     "name": "stdout",
     "output_type": "stream",
     "text": [
      "<class 'pandas.core.frame.DataFrame'>\n",
      "RangeIndex: 28125 entries, 0 to 28124\n",
      "Data columns (total 41 columns):\n",
      " #   Column                        Non-Null Count  Dtype  \n",
      "---  ------                        --------------  -----  \n",
      " 0   id                            28125 non-null  int64  \n",
      " 1   name                          28124 non-null  object \n",
      " 2   host_id                       28125 non-null  int64  \n",
      " 3   host_name                     28113 non-null  object \n",
      " 4   host_since                    28118 non-null  object \n",
      " 5   host_location                 28096 non-null  object \n",
      " 6   host_is_superhost             28118 non-null  object \n",
      " 7   host_neighbourhood            14551 non-null  object \n",
      " 8   host_listings_count           28118 non-null  float64\n",
      " 9   host_total_listings_count     28118 non-null  float64\n",
      " 10  neighbourhood                 23334 non-null  object \n",
      " 11  neighbourhood_cleansed        28125 non-null  object \n",
      " 12  neighbourhood_group_cleansed  0 non-null      float64\n",
      " 13  latitude                      28125 non-null  float64\n",
      " 14  longitude                     28125 non-null  float64\n",
      " 15  property_type                 28125 non-null  object \n",
      " 16  room_type                     28125 non-null  object \n",
      " 17  accommodates                  28125 non-null  int64  \n",
      " 18  bathrooms                     0 non-null      float64\n",
      " 19  bathrooms_text                28073 non-null  object \n",
      " 20  bedrooms                      27162 non-null  float64\n",
      " 21  beds                          27915 non-null  float64\n",
      " 22  amenities                     28125 non-null  object \n",
      " 23  price                         28125 non-null  object \n",
      " 24  minimum_nights                28125 non-null  int64  \n",
      " 25  maximum_nights                28125 non-null  int64  \n",
      " 26  has_availability              28125 non-null  object \n",
      " 27  availability_30               28125 non-null  int64  \n",
      " 28  availability_60               28125 non-null  int64  \n",
      " 29  availability_90               28125 non-null  int64  \n",
      " 30  availability_365              28125 non-null  int64  \n",
      " 31  calendar_last_scraped         28125 non-null  object \n",
      " 32  number_of_reviews             28125 non-null  int64  \n",
      " 33  review_scores_rating          17632 non-null  float64\n",
      " 34  review_scores_accuracy        17139 non-null  float64\n",
      " 35  review_scores_cleanliness     17139 non-null  float64\n",
      " 36  review_scores_checkin         17137 non-null  float64\n",
      " 37  review_scores_communication   17139 non-null  float64\n",
      " 38  review_scores_location        17136 non-null  float64\n",
      " 39  review_scores_value           17136 non-null  float64\n",
      " 40  reviews_per_month             17632 non-null  float64\n",
      "dtypes: float64(16), int64(10), object(15)\n",
      "memory usage: 8.8+ MB\n"
     ]
    }
   ],
   "source": [
    "listing.info()"
   ]
  },
  {
   "cell_type": "code",
   "execution_count": null,
   "id": "ce9d0c2f-501f-4af6-835d-bb377ac6ca16",
   "metadata": {},
   "outputs": [],
   "source": []
  }
 ],
 "metadata": {
  "kernelspec": {
   "display_name": "Python 3",
   "language": "python",
   "name": "python3"
  },
  "language_info": {
   "codemirror_mode": {
    "name": "ipython",
    "version": 3
   },
   "file_extension": ".py",
   "mimetype": "text/x-python",
   "name": "python",
   "nbconvert_exporter": "python",
   "pygments_lexer": "ipython3",
   "version": "3.8.8"
  }
 },
 "nbformat": 4,
 "nbformat_minor": 5
}
